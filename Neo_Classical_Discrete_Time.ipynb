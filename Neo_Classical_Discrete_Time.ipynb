{
  "nbformat": 4,
  "nbformat_minor": 0,
  "metadata": {
    "colab": {
      "provenance": [],
      "include_colab_link": true
    },
    "kernelspec": {
      "name": "python3",
      "display_name": "Python 3"
    },
    "language_info": {
      "name": "python"
    }
  },
  "cells": [
    {
      "cell_type": "markdown",
      "metadata": {
        "id": "view-in-github",
        "colab_type": "text"
      },
      "source": [
        "<a href=\"https://colab.research.google.com/github/wangwangwang77/pydata-book/blob/1st-edition/Neo_Classical_Discrete_Time.ipynb\" target=\"_parent\"><img src=\"https://colab.research.google.com/assets/colab-badge.svg\" alt=\"Open In Colab\"/></a>"
      ]
    },
    {
      "cell_type": "markdown",
      "source": [
        "**From a series of application of modern interpolation methods for economics: written by [Mahdi E Kahou](https://sites.google.com/site/mahdiebrahimikahou/about-me)**\n",
        "\n",
        "\n",
        "Note: This notebook should take at most **50 seconds** to run. From `Runtime` choose `Run all` to run this code."
      ],
      "metadata": {
        "id": "fBPNgVQunYKG"
      }
    },
    {
      "cell_type": "markdown",
      "source": [
        "Consider the following problem:\n",
        "\n",
        "$\\begin{align}\n",
        "\\quad & \\max_{\\{c_t\\}_{t=0}^\\infty } \\sum \\beta^t u(c_t)\\\\\n",
        "\\quad & \\text{s.t.}\\quad  k_{t+1} = f(k_t) + (1-\\delta) k_t -c_t\\\\\n",
        "\\quad & k_{t+1} \\geq 0\\\\\n",
        "\\quad & k_0 \\quad \\text{is given}.\n",
        "\\end{align}$\n",
        "\n",
        "The Euler equation can be written as:\n",
        "\n",
        "$\\begin{align}\n",
        "\\quad & u'(c_t) = \\beta u'(c_{t+1})\\big[f'(k_{t+1})+(1-\\delta)\\big]\n",
        "\\end{align}$\n",
        "\n",
        "To pin down the solution transversality condition is required:\n",
        "\n",
        "$\\begin{align}\n",
        "\\quad & \\lim_{T\\rightarrow \\infty} u'(c_t)k_{t+1} = 0\n",
        "\\end{align}$\n",
        "\n",
        "The solution of this problem can be written as the **root** of a **functional operator**.\n",
        "\n",
        "$\\begin{align}\n",
        "\\quad & \\beta u'\\big(c(t+1)\\big)\\bigg[f'\\big(k(t+1)\\big)+(1-\\delta)\\bigg] - u'\\big(c(t)\\big) = 0 \\\\\n",
        "\\quad & f\\big(k(t)\\big) + (1-\\delta) k(t) -c(t) - k(t+1)  = 0\\\\\n",
        "\\quad & k(0)-k_0 = 0.\n",
        "\\end{align}$\n",
        "\n",
        "In this example I focus on the case of:\n",
        " 1. $u(c) = \\frac{c^{1-\\sigma}}{1-\\sigma}$, and $f(k) = k^\\alpha$,\n",
        "\n",
        " 2.  $\\sigma = 1$, $\\beta = 0.9$, $\\alpha = \\frac{1}{3}$."
      ],
      "metadata": {
        "id": "9sSvhLeMr1bb"
      }
    },
    {
      "cell_type": "markdown",
      "source": [
        "## Importing packages (ignore it)\n"
      ],
      "metadata": {
        "id": "FUfHGKqqggdM"
      }
    },
    {
      "cell_type": "code",
      "source": [
        "import numpy as np\n",
        "import torch\n",
        "import torch.nn as nn\n",
        "import torch.nn.functional as F\n",
        "from torch.utils.data import Dataset, DataLoader\n",
        "import matplotlib.pyplot as plt\n",
        "from matplotlib import cm"
      ],
      "metadata": {
        "id": "sOwcRaTB1XaI"
      },
      "execution_count": null,
      "outputs": []
    },
    {
      "cell_type": "code",
      "source": [
        "fontsize= 14\n",
        "ticksize = 14\n",
        "figsize = (12, 4.5)\n",
        "params = {'font.family':'serif',\n",
        "    \"figure.figsize\":figsize,\n",
        "    'figure.dpi': 80,\n",
        "    'figure.edgecolor': 'k',\n",
        "    'font.size': fontsize,\n",
        "    'axes.labelsize': fontsize,\n",
        "    'axes.titlesize': fontsize,\n",
        "    'xtick.labelsize': ticksize,\n",
        "    'ytick.labelsize': ticksize\n",
        "}\n",
        "plt.rcParams.update(params)"
      ],
      "metadata": {
        "id": "EGSwyspHgq1m"
      },
      "execution_count": null,
      "outputs": []
    },
    {
      "cell_type": "markdown",
      "source": [
        "## Setting up the model parameters\n"
      ],
      "metadata": {
        "id": "J5Hj6u3Yg-Vk"
      }
    },
    {
      "cell_type": "code",
      "source": [
        "class Params:\n",
        "    def __init__(self,\n",
        "                 alpha = 1.0/3.0,\n",
        "                 beta = 0.9,\n",
        "                 delta = 0.1,\n",
        "                 k_0 = 1.0,\n",
        "                ):\n",
        "        self.alpha = alpha\n",
        "        self.beta = beta\n",
        "        self.delta = delta\n",
        "        self.k_0 = k_0\n"
      ],
      "metadata": {
        "id": "sr61pGbUg0F3"
      },
      "execution_count": null,
      "outputs": []
    },
    {
      "cell_type": "markdown",
      "source": [
        "## Some useful functions:\n",
        "$f(k)$: Production function\n",
        "\n",
        "$f'(k)$: derivative of the production function\n",
        "\n",
        "$SS$: Steady states of the capital and consumption"
      ],
      "metadata": {
        "id": "gXQRWgay3dZ1"
      }
    },
    {
      "cell_type": "code",
      "source": [
        "def f(k):\n",
        "    alpha = Params().alpha\n",
        "    return k**alpha"
      ],
      "metadata": {
        "id": "s7wLd10NkbTq"
      },
      "execution_count": null,
      "outputs": []
    },
    {
      "cell_type": "code",
      "source": [
        "def f_prime(k):\n",
        "    alpha = Params().alpha\n",
        "    return  alpha*(k**(alpha -1))"
      ],
      "metadata": {
        "id": "DJ-OyiCgmJA0"
      },
      "execution_count": null,
      "outputs": []
    },
    {
      "cell_type": "code",
      "source": [
        "def u_prime(c):\n",
        "    out = c.pow(-1)\n",
        "    return out"
      ],
      "metadata": {
        "id": "aAhsdxNymASg"
      },
      "execution_count": null,
      "outputs": []
    },
    {
      "cell_type": "code",
      "source": [
        "class SS: #steady state\n",
        "    def __init__(self):\n",
        "        self.delta = Params().delta\n",
        "        self.beta = Params().beta\n",
        "        self.alpha = Params().alpha\n",
        "        base = ((1.0/self.beta)-1.0+self.delta)/self.alpha\n",
        "        exponent = 1.0/(self.alpha-1)\n",
        "        self.k_ss = base**exponent\n",
        "        self.c_ss = f(self.k_ss)-self.delta*self.k_ss"
      ],
      "metadata": {
        "id": "OOVSkmo6qTN8"
      },
      "execution_count": null,
      "outputs": []
    },
    {
      "cell_type": "markdown",
      "source": [
        "## Preparing the grid and the data loader (for stochastic gradient method)"
      ],
      "metadata": {
        "id": "nYAZeyHP4sHQ"
      }
    },
    {
      "cell_type": "code",
      "source": [
        "class Grid_data:\n",
        "    def __init__(self,\n",
        "                 max_T = 32,\n",
        "                 batch_size = 8):\n",
        "        self.max_T = max_T\n",
        "        self.batch_size = batch_size\n",
        "        self.time_range = torch.arange(0.0, self.max_T , 1.0)\n",
        "        self.grid = self.time_range.unsqueeze(dim = 1)"
      ],
      "metadata": {
        "id": "ft0GO0FEhJ5F"
      },
      "execution_count": null,
      "outputs": []
    },
    {
      "cell_type": "code",
      "source": [
        "class Data_label(Dataset):\n",
        "\n",
        "    def __init__(self,data):\n",
        "        self.time = data\n",
        "        self.n_samples = self.time.shape[0]\n",
        "\n",
        "    def __getitem__(self,index):\n",
        "            return self.time[index]\n",
        "\n",
        "    def __len__(self):\n",
        "        return self.n_samples"
      ],
      "metadata": {
        "id": "BuQC0kRBilEQ"
      },
      "execution_count": null,
      "outputs": []
    },
    {
      "cell_type": "code",
      "source": [
        "train_data = Grid_data().grid\n",
        "train_labeled = Data_label(train_data)\n",
        "train = DataLoader(dataset = train_labeled, batch_size = 8 , shuffle = True )"
      ],
      "metadata": {
        "id": "CsNuZCIQi91g"
      },
      "execution_count": null,
      "outputs": []
    },
    {
      "cell_type": "markdown",
      "source": [
        "## Defining the approximating function (neural networks):\n",
        "Here the the approximation function (deep neural net) is $\\hat{q}=[\\hat{c},\\hat{k}] : \\mathbb{R} → \\mathbb{R}^2$.\n"
      ],
      "metadata": {
        "id": "xzFqPQ7om54A"
      }
    },
    {
      "cell_type": "code",
      "source": [
        "class NN(nn.Module):\n",
        "    def __init__(self,\n",
        "                 dim_hidden = 128,\n",
        "                layers = 4,\n",
        "                hidden_bias = True):\n",
        "        super().__init__()\n",
        "        self.dim_hidden= dim_hidden\n",
        "        self.layers = layers\n",
        "        self.hidden_bias = hidden_bias\n",
        "\n",
        "        torch.manual_seed(123)\n",
        "        module = []\n",
        "        module.append(nn.Linear(1,self.dim_hidden, bias = self.hidden_bias))\n",
        "        module.append(nn.Tanh())\n",
        "\n",
        "        for i in range(self.layers-1):\n",
        "            module.append(nn.Linear(self.dim_hidden,self.dim_hidden, bias = self.hidden_bias))\n",
        "            module.append(nn.Tanh())\n",
        "\n",
        "        module.append(nn.Linear(self.dim_hidden,2))\n",
        "        module.append(nn.Softplus(beta = 1.0)) #The softplus layer ensures c>0,k>0\n",
        "\n",
        "        self.q = nn.Sequential(*module)\n",
        "\n",
        "\n",
        "    def forward(self, x):\n",
        "        out = self.q(x) # first element is consumption, the second element is capital\n",
        "        return  out"
      ],
      "metadata": {
        "id": "3i1FttSJm5Fm"
      },
      "execution_count": null,
      "outputs": []
    },
    {
      "cell_type": "markdown",
      "source": [
        "## Optimization (Learning) process"
      ],
      "metadata": {
        "id": "CYhM3lBjnK4g"
      }
    },
    {
      "cell_type": "markdown",
      "source": [
        "#### An auxiliary function that extracts the learning rate\n"
      ],
      "metadata": {
        "id": "gbPjjGe6nckC"
      }
    },
    {
      "cell_type": "code",
      "source": [
        "def get_lr(optimizer):\n",
        "    for param_group in optimizer.param_groups:\n",
        "        return param_group['lr']"
      ],
      "metadata": {
        "id": "p64tYIjouF3Y"
      },
      "execution_count": null,
      "outputs": []
    },
    {
      "cell_type": "markdown",
      "source": [
        "#### Initializing the neural net and defining the optimizer\n",
        "\n"
      ],
      "metadata": {
        "id": "KBEghCPun6DC"
      }
    },
    {
      "cell_type": "code",
      "source": [
        "q_hat= NN()\n",
        "learning_rate = 1e-3\n",
        "optimizer = torch.optim.Adam(q_hat.parameters(), lr=learning_rate)\n",
        "scheduler = torch.optim.lr_scheduler.StepLR(optimizer, step_size=100, gamma=0.8)"
      ],
      "metadata": {
        "id": "UGDMXNCWn4eH"
      },
      "execution_count": null,
      "outputs": []
    },
    {
      "cell_type": "code",
      "source": [
        "delta = Params().delta\n",
        "beta = Params().beta\n",
        "k_0 = Params().k_0"
      ],
      "metadata": {
        "id": "xA3rkyqSpFxa"
      },
      "execution_count": null,
      "outputs": []
    },
    {
      "cell_type": "code",
      "source": [
        "num_epochs = 1001"
      ],
      "metadata": {
        "id": "Zqyiy3NwpAQx"
      },
      "execution_count": null,
      "outputs": []
    },
    {
      "cell_type": "code",
      "source": [
        "for epoch in range(num_epochs):\n",
        "    for i, time in enumerate(train):\n",
        "        time_zero = torch.zeros([1,1])\n",
        "        time_next = time+1\n",
        "        c_t = q_hat(time)[:,[0]]\n",
        "        k_t = q_hat(time)[:,[1]]\n",
        "        c_tp1 = q_hat(time_next)[:,[0]]\n",
        "        k_tp1 = q_hat(time_next)[:,[1]]\n",
        "        k_t0 = q_hat(time_zero)[0,1]\n",
        "\n",
        "        res_1 = c_t-f(k_t)-(1-delta)*k_t + k_tp1 #Budget constraint\n",
        "        res_2 = (u_prime(c_t)/u_prime(c_tp1)) - beta*(f_prime(k_tp1)+1-delta) #Euler\n",
        "        res_3 = k_t0-k_0 #Initial Condition\n",
        "\n",
        "        loss_1 = res_1.pow(2).mean()\n",
        "        loss_2 = res_2.pow(2).mean()\n",
        "        loss_3 = res_3.pow(2).mean()\n",
        "        loss = 0.1*loss_1+0.8*loss_2+0.1*loss_3\n",
        "\n",
        "        optimizer.zero_grad()\n",
        "        loss.backward()\n",
        "\n",
        "        optimizer.step()\n",
        "    scheduler.step()\n",
        "\n",
        "    if epoch == 0:\n",
        "         print('epoch' , ',' , 'loss' , ',', 'loss_bc' , ',' , 'loss_euler' , ',' , 'loss_initial' ,\n",
        "               ',', 'lr_rate')\n",
        "    if epoch % 100 == 0:\n",
        "          print(epoch,',',\"{:.2e}\".format(loss.detach().numpy()),',',\n",
        "                \"{:.2e}\".format(loss_1.detach().numpy()) , ',' , \"{:.2e}\".format(loss_2.detach().numpy())\n",
        "               , ',' , \"{:.2e}\".format(loss_3.detach().numpy()), ',', \"{:.2e}\".format(get_lr(optimizer)) )\n",
        ""
      ],
      "metadata": {
        "colab": {
          "base_uri": "https://localhost:8080/"
        },
        "id": "dEXzo6b5oUtw",
        "outputId": "19edf3b0-21c6-4997-f6a1-b4b56b8f9321"
      },
      "execution_count": null,
      "outputs": [
        {
          "output_type": "stream",
          "name": "stdout",
          "text": [
            "epoch , loss , loss_bc , loss_euler , loss_initial , lr_rate\n",
            "0 , 3.15e-03 , 1.48e-03 , 2.99e-03 , 6.06e-03 , 1.00e-03\n",
            "100 , 1.04e-07 , 6.87e-07 , 4.23e-08 , 1.17e-08 , 8.00e-04\n",
            "200 , 5.18e-08 , 1.42e-07 , 4.02e-08 , 5.43e-08 , 6.40e-04\n",
            "300 , 2.53e-08 , 2.87e-08 , 2.71e-08 , 7.59e-09 , 5.12e-04\n",
            "400 , 1.31e-08 , 4.07e-08 , 1.07e-08 , 4.93e-09 , 4.10e-04\n",
            "500 , 6.36e-08 , 5.34e-07 , 7.97e-09 , 3.90e-08 , 3.28e-04\n",
            "600 , 1.35e-08 , 4.48e-08 , 1.12e-08 , 5.46e-10 , 2.62e-04\n",
            "700 , 3.20e-09 , 3.96e-09 , 3.50e-09 , 2.51e-11 , 2.10e-04\n",
            "800 , 3.05e-09 , 1.62e-08 , 1.66e-09 , 1.05e-09 , 1.68e-04\n",
            "900 , 1.05e-08 , 6.94e-08 , 4.20e-09 , 1.62e-09 , 1.34e-04\n",
            "1000 , 1.06e-08 , 5.73e-08 , 2.52e-09 , 2.84e-08 , 1.07e-04\n"
          ]
        }
      ]
    },
    {
      "cell_type": "markdown",
      "source": [
        "## Plotting the results\n"
      ],
      "metadata": {
        "id": "6_-xIWOtposn"
      }
    },
    {
      "cell_type": "code",
      "source": [
        "time_test = Grid_data().grid\n",
        "c_hat_path = q_hat(time_test)[:,[0]].detach()\n",
        "k_hat_path = q_hat(time_test)[:,[1]].detach()"
      ],
      "metadata": {
        "id": "LNucEUzNpCOY"
      },
      "execution_count": null,
      "outputs": []
    },
    {
      "cell_type": "code",
      "source": [
        "plt.subplot(1, 2, 1)\n",
        "\n",
        "\n",
        "plt.plot(time_test,k_hat_path, color='k',  label = r\"Approximate capital path\")\n",
        "plt.axhline(y=SS().k_ss, linestyle='--',color='k', label=\"k Steady State\")\n",
        "plt.ylabel(r\"k(t)\")\n",
        "plt.xlabel(r\"Time(t)\")\n",
        "plt.ylim([Params().k_0-0.1,SS().k_ss+0.1 ])\n",
        "plt.legend(loc='best')\n",
        "\n",
        "plt.subplot(1, 2, 2)\n",
        "plt.plot(time_test,c_hat_path,label= r\"Approximate consumption path\")\n",
        "plt.axhline(y=SS().c_ss, linestyle='--',label=\"c Steady State\")\n",
        "plt.xlabel(r\"Time(t)\")\n",
        "plt.ylim([c_hat_path[0]-0.1,SS().k_ss+0.1 ])\n",
        "plt.tight_layout()\n",
        "plt.legend(loc='best')\n",
        "plt.tight_layout()\n",
        "plt.show()\n"
      ],
      "metadata": {
        "colab": {
          "base_uri": "https://localhost:8080/",
          "height": 359
        },
        "id": "fqLuZaubptde",
        "outputId": "7341abf7-7ca8-4fbd-899f-7e438d78fbde"
      },
      "execution_count": null,
      "outputs": [
        {
          "output_type": "display_data",
          "data": {
            "text/plain": [
              "<Figure size 960x360 with 2 Axes>"
            ],
            "image/png": "[encoded data removed]"
          },
          "metadata": {
            "needs_background": "light"
          }
        }
      ]
    },
    {
      "cell_type": "code",
      "source": [],
      "metadata": {
        "id": "UTl3rsLsrOBC"
      },
      "execution_count": null,
      "outputs": []
    }
  ]
}